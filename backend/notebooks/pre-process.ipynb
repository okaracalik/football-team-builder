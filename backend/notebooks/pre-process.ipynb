{
 "cells": [
  {
   "cell_type": "code",
   "execution_count": 1,
   "metadata": {
    "ExecuteTime": {
     "end_time": "2020-09-02T14:56:28.779631Z",
     "start_time": "2020-09-02T14:56:28.707931Z"
    }
   },
   "outputs": [],
   "source": [
    "import json\n",
    "import pandas as pd\n",
    "import numpy as np\n",
    "import re\n",
    "import sys\n",
    "import sqlalchemy.types as tp\n",
    "from sqlalchemy import create_engine\n",
    "from sqlalchemy.ext.declarative import declarative_base\n",
    "from sqlalchemy import Column, Integer, String, Date\n",
    "from sqlalchemy.orm import sessionmaker\n",
    "\n",
    "sys.path.append('..')"
   ]
  },
  {
   "cell_type": "code",
   "execution_count": 2,
   "metadata": {},
   "outputs": [],
   "source": [
    "from helper import get_database_session, init_mysql_engine"
   ]
  },
  {
   "cell_type": "code",
   "execution_count": 3,
   "metadata": {},
   "outputs": [],
   "source": [
    "with open('../config.json', 'r') as f:\n",
    "  CONFIG = json.load(f)\n",
    "\n",
    "engine = init_mysql_engine(CONFIG['MYSQL_USER'],\n",
    "                           CONFIG['MYSQL_PWD'],\n",
    "                           CONFIG['MYSQL_HOST'],\n",
    "                           CONFIG['MYSQL_PORT'],\n",
    "                           CONFIG['MYSQL_DB'])"
   ]
  },
  {
   "cell_type": "code",
   "execution_count": 4,
   "metadata": {
    "ExecuteTime": {
     "end_time": "2020-09-02T15:07:21.565936Z",
     "start_time": "2020-09-02T15:07:21.561982Z"
    }
   },
   "outputs": [],
   "source": [
    "def camel_to_snake_case(text):\n",
    "    return re.sub(r'(?<!^)(?=[A-Z][a-z])', '_', text.replace(' ', '')).lower()\n"
   ]
  },
  {
   "cell_type": "code",
   "execution_count": 5,
   "metadata": {
    "ExecuteTime": {
     "end_time": "2020-09-02T15:07:22.407943Z",
     "start_time": "2020-09-02T15:07:21.830631Z"
    }
   },
   "outputs": [],
   "source": [
    "df = pd.read_csv('./data/fifa.csv', index_col=0, parse_dates=['Joined'])"
   ]
  },
  {
   "cell_type": "code",
   "execution_count": 6,
   "metadata": {
    "ExecuteTime": {
     "end_time": "2020-09-02T15:07:22.725344Z",
     "start_time": "2020-09-02T15:07:22.671259Z"
    }
   },
   "outputs": [
    {
     "data": {
      "text/html": [
       "<div>\n",
       "<style scoped>\n",
       "    .dataframe tbody tr th:only-of-type {\n",
       "        vertical-align: middle;\n",
       "    }\n",
       "\n",
       "    .dataframe tbody tr th {\n",
       "        vertical-align: top;\n",
       "    }\n",
       "\n",
       "    .dataframe thead th {\n",
       "        text-align: right;\n",
       "    }\n",
       "</style>\n",
       "<table border=\"1\" class=\"dataframe\">\n",
       "  <thead>\n",
       "    <tr style=\"text-align: right;\">\n",
       "      <th></th>\n",
       "      <th>ID</th>\n",
       "      <th>Name</th>\n",
       "      <th>Age</th>\n",
       "      <th>Photo</th>\n",
       "      <th>Nationality</th>\n",
       "      <th>Flag</th>\n",
       "      <th>Overall</th>\n",
       "      <th>Potential</th>\n",
       "      <th>Club</th>\n",
       "      <th>Club Logo</th>\n",
       "      <th>...</th>\n",
       "      <th>Composure</th>\n",
       "      <th>Marking</th>\n",
       "      <th>StandingTackle</th>\n",
       "      <th>SlidingTackle</th>\n",
       "      <th>GKDiving</th>\n",
       "      <th>GKHandling</th>\n",
       "      <th>GKKicking</th>\n",
       "      <th>GKPositioning</th>\n",
       "      <th>GKReflexes</th>\n",
       "      <th>Release Clause</th>\n",
       "    </tr>\n",
       "  </thead>\n",
       "  <tbody>\n",
       "    <tr>\n",
       "      <th>0</th>\n",
       "      <td>158023</td>\n",
       "      <td>L. Messi</td>\n",
       "      <td>31</td>\n",
       "      <td>https://cdn.sofifa.org/players/4/19/158023.png</td>\n",
       "      <td>Argentina</td>\n",
       "      <td>https://cdn.sofifa.org/flags/52.png</td>\n",
       "      <td>94</td>\n",
       "      <td>94</td>\n",
       "      <td>FC Barcelona</td>\n",
       "      <td>https://cdn.sofifa.org/teams/2/light/241.png</td>\n",
       "      <td>...</td>\n",
       "      <td>96.0</td>\n",
       "      <td>33.0</td>\n",
       "      <td>28.0</td>\n",
       "      <td>26.0</td>\n",
       "      <td>6.0</td>\n",
       "      <td>11.0</td>\n",
       "      <td>15.0</td>\n",
       "      <td>14.0</td>\n",
       "      <td>8.0</td>\n",
       "      <td>€226.5M</td>\n",
       "    </tr>\n",
       "    <tr>\n",
       "      <th>1</th>\n",
       "      <td>20801</td>\n",
       "      <td>Cristiano Ronaldo</td>\n",
       "      <td>33</td>\n",
       "      <td>https://cdn.sofifa.org/players/4/19/20801.png</td>\n",
       "      <td>Portugal</td>\n",
       "      <td>https://cdn.sofifa.org/flags/38.png</td>\n",
       "      <td>94</td>\n",
       "      <td>94</td>\n",
       "      <td>Juventus</td>\n",
       "      <td>https://cdn.sofifa.org/teams/2/light/45.png</td>\n",
       "      <td>...</td>\n",
       "      <td>95.0</td>\n",
       "      <td>28.0</td>\n",
       "      <td>31.0</td>\n",
       "      <td>23.0</td>\n",
       "      <td>7.0</td>\n",
       "      <td>11.0</td>\n",
       "      <td>15.0</td>\n",
       "      <td>14.0</td>\n",
       "      <td>11.0</td>\n",
       "      <td>€127.1M</td>\n",
       "    </tr>\n",
       "    <tr>\n",
       "      <th>2</th>\n",
       "      <td>190871</td>\n",
       "      <td>Neymar Jr</td>\n",
       "      <td>26</td>\n",
       "      <td>https://cdn.sofifa.org/players/4/19/190871.png</td>\n",
       "      <td>Brazil</td>\n",
       "      <td>https://cdn.sofifa.org/flags/54.png</td>\n",
       "      <td>92</td>\n",
       "      <td>93</td>\n",
       "      <td>Paris Saint-Germain</td>\n",
       "      <td>https://cdn.sofifa.org/teams/2/light/73.png</td>\n",
       "      <td>...</td>\n",
       "      <td>94.0</td>\n",
       "      <td>27.0</td>\n",
       "      <td>24.0</td>\n",
       "      <td>33.0</td>\n",
       "      <td>9.0</td>\n",
       "      <td>9.0</td>\n",
       "      <td>15.0</td>\n",
       "      <td>15.0</td>\n",
       "      <td>11.0</td>\n",
       "      <td>€228.1M</td>\n",
       "    </tr>\n",
       "    <tr>\n",
       "      <th>3</th>\n",
       "      <td>193080</td>\n",
       "      <td>De Gea</td>\n",
       "      <td>27</td>\n",
       "      <td>https://cdn.sofifa.org/players/4/19/193080.png</td>\n",
       "      <td>Spain</td>\n",
       "      <td>https://cdn.sofifa.org/flags/45.png</td>\n",
       "      <td>91</td>\n",
       "      <td>93</td>\n",
       "      <td>Manchester United</td>\n",
       "      <td>https://cdn.sofifa.org/teams/2/light/11.png</td>\n",
       "      <td>...</td>\n",
       "      <td>68.0</td>\n",
       "      <td>15.0</td>\n",
       "      <td>21.0</td>\n",
       "      <td>13.0</td>\n",
       "      <td>90.0</td>\n",
       "      <td>85.0</td>\n",
       "      <td>87.0</td>\n",
       "      <td>88.0</td>\n",
       "      <td>94.0</td>\n",
       "      <td>€138.6M</td>\n",
       "    </tr>\n",
       "    <tr>\n",
       "      <th>4</th>\n",
       "      <td>192985</td>\n",
       "      <td>K. De Bruyne</td>\n",
       "      <td>27</td>\n",
       "      <td>https://cdn.sofifa.org/players/4/19/192985.png</td>\n",
       "      <td>Belgium</td>\n",
       "      <td>https://cdn.sofifa.org/flags/7.png</td>\n",
       "      <td>91</td>\n",
       "      <td>92</td>\n",
       "      <td>Manchester City</td>\n",
       "      <td>https://cdn.sofifa.org/teams/2/light/10.png</td>\n",
       "      <td>...</td>\n",
       "      <td>88.0</td>\n",
       "      <td>68.0</td>\n",
       "      <td>58.0</td>\n",
       "      <td>51.0</td>\n",
       "      <td>15.0</td>\n",
       "      <td>13.0</td>\n",
       "      <td>5.0</td>\n",
       "      <td>10.0</td>\n",
       "      <td>13.0</td>\n",
       "      <td>€196.4M</td>\n",
       "    </tr>\n",
       "  </tbody>\n",
       "</table>\n",
       "<p>5 rows × 88 columns</p>\n",
       "</div>"
      ],
      "text/plain": [
       "       ID               Name  Age  \\\n",
       "0  158023           L. Messi   31   \n",
       "1   20801  Cristiano Ronaldo   33   \n",
       "2  190871          Neymar Jr   26   \n",
       "3  193080             De Gea   27   \n",
       "4  192985       K. De Bruyne   27   \n",
       "\n",
       "                                            Photo Nationality  \\\n",
       "0  https://cdn.sofifa.org/players/4/19/158023.png   Argentina   \n",
       "1   https://cdn.sofifa.org/players/4/19/20801.png    Portugal   \n",
       "2  https://cdn.sofifa.org/players/4/19/190871.png      Brazil   \n",
       "3  https://cdn.sofifa.org/players/4/19/193080.png       Spain   \n",
       "4  https://cdn.sofifa.org/players/4/19/192985.png     Belgium   \n",
       "\n",
       "                                  Flag  Overall  Potential  \\\n",
       "0  https://cdn.sofifa.org/flags/52.png       94         94   \n",
       "1  https://cdn.sofifa.org/flags/38.png       94         94   \n",
       "2  https://cdn.sofifa.org/flags/54.png       92         93   \n",
       "3  https://cdn.sofifa.org/flags/45.png       91         93   \n",
       "4   https://cdn.sofifa.org/flags/7.png       91         92   \n",
       "\n",
       "                  Club                                     Club Logo  ...  \\\n",
       "0         FC Barcelona  https://cdn.sofifa.org/teams/2/light/241.png  ...   \n",
       "1             Juventus   https://cdn.sofifa.org/teams/2/light/45.png  ...   \n",
       "2  Paris Saint-Germain   https://cdn.sofifa.org/teams/2/light/73.png  ...   \n",
       "3    Manchester United   https://cdn.sofifa.org/teams/2/light/11.png  ...   \n",
       "4      Manchester City   https://cdn.sofifa.org/teams/2/light/10.png  ...   \n",
       "\n",
       "  Composure Marking  StandingTackle SlidingTackle  GKDiving  GKHandling  \\\n",
       "0      96.0    33.0            28.0          26.0       6.0        11.0   \n",
       "1      95.0    28.0            31.0          23.0       7.0        11.0   \n",
       "2      94.0    27.0            24.0          33.0       9.0         9.0   \n",
       "3      68.0    15.0            21.0          13.0      90.0        85.0   \n",
       "4      88.0    68.0            58.0          51.0      15.0        13.0   \n",
       "\n",
       "   GKKicking GKPositioning GKReflexes Release Clause  \n",
       "0       15.0          14.0        8.0        €226.5M  \n",
       "1       15.0          14.0       11.0        €127.1M  \n",
       "2       15.0          15.0       11.0        €228.1M  \n",
       "3       87.0          88.0       94.0        €138.6M  \n",
       "4        5.0          10.0       13.0        €196.4M  \n",
       "\n",
       "[5 rows x 88 columns]"
      ]
     },
     "execution_count": 6,
     "metadata": {},
     "output_type": "execute_result"
    }
   ],
   "source": [
    "df.head()"
   ]
  },
  {
   "cell_type": "code",
   "execution_count": 7,
   "metadata": {
    "ExecuteTime": {
     "end_time": "2020-09-02T15:07:22.829207Z",
     "start_time": "2020-09-02T15:07:22.826226Z"
    }
   },
   "outputs": [],
   "source": [
    "df.columns = [camel_to_snake_case(c) for c in df.columns]"
   ]
  },
  {
   "cell_type": "code",
   "execution_count": 8,
   "metadata": {
    "ExecuteTime": {
     "end_time": "2020-09-02T15:07:22.911668Z",
     "start_time": "2020-09-02T15:07:22.902307Z"
    }
   },
   "outputs": [],
   "source": [
    "df['gk'] = np.where(df.position == 'GK', df.overall, 0)"
   ]
  },
  {
   "cell_type": "code",
   "execution_count": 9,
   "metadata": {
    "ExecuteTime": {
     "end_time": "2020-09-02T15:07:22.997872Z",
     "start_time": "2020-09-02T15:07:22.987992Z"
    }
   },
   "outputs": [],
   "source": [
    "# Joined: Date\n",
    "COLS = df.columns\n",
    "COLS_POS = ['ls', 'st', 'rs', 'lw', 'lf', 'cf', 'rf', 'rw', 'lam', 'cam', 'ram', 'lm', 'lcm', 'cm', 'rcm', 'rm', 'lwb', 'ldm', 'cdm', 'rdm', 'rwb', 'lb', 'lcb', 'cb', 'rcb', 'rb', 'gk']\n",
    "COLS_MONEY = ['value', 'wage', 'release_clause']\n",
    "COLS_BOOL = ['real_face']\n",
    "COLS_UNPROCESSED = set(COLS).difference(set([*COLS_POS, *COLS_MONEY, *COLS_BOOL]))"
   ]
  },
  {
   "cell_type": "code",
   "execution_count": 10,
   "metadata": {
    "ExecuteTime": {
     "end_time": "2020-09-02T15:07:23.137206Z",
     "start_time": "2020-09-02T15:07:23.123608Z"
    }
   },
   "outputs": [],
   "source": [
    "def process_position_overalls(text):\n",
    "    if pd.isnull(text):\n",
    "        return 0\n",
    "    else:\n",
    "        if isinstance(text, int):\n",
    "            return text\n",
    "        else:\n",
    "            return int(text.split('+')[0])\n",
    "\n",
    "\n",
    "def process_money_values(text):\n",
    "    if pd.isnull(text):\n",
    "        return 0\n",
    "    else:\n",
    "        if text.endswith('K'):\n",
    "            return int(float(text[1:-1]) * 10**3)\n",
    "        elif text.endswith('M'):\n",
    "            return int(float(text[1:-1]) * 10**6)\n",
    "        else:\n",
    "            return int(float(text[1:]))\n",
    "\n",
    "\n",
    "def process_bool_values(text):\n",
    "    if pd.isnull(text):\n",
    "        return 0\n",
    "    else:\n",
    "        if text == 'Yes':\n",
    "            return 1\n",
    "        elif text == 'No':\n",
    "            return 0\n",
    "        else:\n",
    "            return None\n",
    "\n",
    "\n",
    "def process_photo_links(text):\n",
    "    start = 'https://cdn.sofifa.com/players'\n",
    "    end = '19_60.png'\n",
    "    id_str = str(text.split('/')[-1].split('.')[0]).zfill(6)\n",
    "    return f'{start}/{id_str[:3]}/{id_str[3:]}/{end}'\n",
    "\n",
    "\n",
    "def process_flag_links(text):\n",
    "    pass"
   ]
  },
  {
   "cell_type": "code",
   "execution_count": 11,
   "metadata": {
    "ExecuteTime": {
     "end_time": "2020-09-02T15:07:25.353421Z",
     "start_time": "2020-09-02T15:07:24.568979Z"
    },
    "code_folding": []
   },
   "outputs": [],
   "source": [
    "df = df[COLS_UNPROCESSED] \\\n",
    "        .merge(df[[*COLS_POS]].applymap(process_position_overalls), left_index=True, right_index=True) \\\n",
    "        .merge(df[[*COLS_MONEY]].applymap(process_money_values), left_index=True, right_index=True) \\\n",
    "        .merge(df[[*COLS_BOOL]].applymap(process_bool_values), left_index=True, right_index=True) \\\n",
    "        .assign(\n",
    "            photo = lambda df: df['photo'].apply(process_photo_links),\n",
    "            photo_id = lambda df: df['photo'].apply(lambda x: ''.join(x.split('/')[-3:-1])),\n",
    "            position = lambda df: df['position'].str.lower()\n",
    "        )\n"
   ]
  },
  {
   "cell_type": "code",
   "execution_count": 12,
   "metadata": {
    "ExecuteTime": {
     "end_time": "2020-09-02T16:17:31.155048Z",
     "start_time": "2020-09-02T15:13:18.378337Z"
    }
   },
   "outputs": [],
   "source": [
    "import requests\n",
    "\n",
    "def scrape_player_photos(df, path):\n",
    "    \n",
    "    TOTAL = len(df)\n",
    "\n",
    "    for index, row in df.iterrows():\n",
    "        \n",
    "        print(f'{index+1:>8} of {TOTAL:>8}', end='\\r')\n",
    "        response = requests.get(row['photo'])\n",
    "        \n",
    "        with open(f\"{path}/{row['photo_id']}.png\", 'wb') as f:\n",
    "            f.write(response.content)\n",
    "\n",
    "# PATH = '../../apps/fifa-team-builder/backend/assets/players'\n",
    "# scrape_player_photos(df, PATH)"
   ]
  },
  {
   "cell_type": "code",
   "execution_count": 13,
   "metadata": {},
   "outputs": [],
   "source": [
    "df['photo'] = df['photo_id'].apply(lambda x: f'/assets/players/{x}.png')"
   ]
  },
  {
   "cell_type": "code",
   "execution_count": 14,
   "metadata": {
    "ExecuteTime": {
     "end_time": "2020-09-02T16:22:13.773727Z",
     "start_time": "2020-09-02T16:22:13.768298Z"
    },
    "code_folding": [
     0
    ]
   },
   "outputs": [],
   "source": [
    "statement_insert_mysql = \"\"\"\n",
    "    CREATE TABLE players (\n",
    "        id                         BIGINT PRIMARY KEY,\n",
    "        name                       VARCHAR(25) NOT NULL,\n",
    "        age                        INT NOT NULL,\n",
    "        photo                      VARCHAR(50) NOT NULL,\n",
    "        photo_id                   VARCHAR(10) NOT NULL,\n",
    "        nationality                VARCHAR(25) NULL,\n",
    "        flag                       VARCHAR(40) NOT NULL,\n",
    "        overall                    INT NOT NULL,\n",
    "        potential                  INT NOT NULL,\n",
    "        club                       VARCHAR(40),\n",
    "        club_logo                  VARCHAR(50) NOT NULL,\n",
    "        value                      BIGINT NOT NULL,\n",
    "        wage                       BIGINT NOT NULL,\n",
    "        special                    INT NOT NULL,\n",
    "        preferred_foot             VARCHAR(5),\n",
    "        international_reputation   INT,\n",
    "        weak_foot                  INT,\n",
    "        skill_moves                INT,\n",
    "        work_rate                  VARCHAR(15),\n",
    "        body_type                  VARCHAR(20),\n",
    "        real_face                  BOOLEAN,\n",
    "        position                   VARCHAR(3),\n",
    "        jersey_number              INT,\n",
    "        joined                     DATE,\n",
    "        loaned_from                VARCHAR(40),\n",
    "        contract_valid_until       VARCHAR(15),\n",
    "        height                     VARCHAR(5),\n",
    "        weight                     VARCHAR(6),\n",
    "        ls                         INT,\n",
    "        st                         INT,\n",
    "        rs                         INT,\n",
    "        lw                         INT,\n",
    "        lf                         INT,\n",
    "        cf                         INT,\n",
    "        rf                         INT,\n",
    "        rw                         INT,\n",
    "        lam                        INT,\n",
    "        cam                        INT,\n",
    "        ram                        INT,\n",
    "        lm                         INT,\n",
    "        lcm                        INT,\n",
    "        cm                         INT,\n",
    "        rcm                        INT,\n",
    "        rm                         INT,\n",
    "        lwb                        INT,\n",
    "        ldm                        INT,\n",
    "        cdm                        INT,\n",
    "        rdm                        INT,\n",
    "        rwb                        INT,\n",
    "        lb                         INT,\n",
    "        lcb                        INT,\n",
    "        cb                         INT,\n",
    "        rcb                        INT,\n",
    "        rb                         INT,\n",
    "        gk                         INT,\n",
    "        crossing                   INT,\n",
    "        finishing                  INT,\n",
    "        heading_accuracy           INT,\n",
    "        short_passing              INT,\n",
    "        volleys                    INT,\n",
    "        dribbling                  INT,\n",
    "        curve                      INT,\n",
    "        fk_accuracy                INT,\n",
    "        long_passing               INT,\n",
    "        ball_control               INT,\n",
    "        acceleration               INT,\n",
    "        sprint_speed               INT,\n",
    "        agility                    INT,\n",
    "        reactions                  INT,\n",
    "        balance                    INT,\n",
    "        shot_power                 INT,\n",
    "        jumping                    INT,\n",
    "        stamina                    INT,\n",
    "        strength                   INT,\n",
    "        long_shots                 INT,\n",
    "        aggression                 INT,\n",
    "        interceptions              INT,\n",
    "        positioning                INT,\n",
    "        vision                     INT,\n",
    "        penalties                  INT,\n",
    "        composure                  INT,\n",
    "        marking                    INT,\n",
    "        standing_tackle            INT,\n",
    "        sliding_tackle             INT,\n",
    "        gk_diving                  INT,\n",
    "        gk_handling                INT,\n",
    "        gk_kicking                 INT,\n",
    "        gk_positioning             INT,\n",
    "        gk_reflexes                INT,\n",
    "        release_clause             BIGINT\n",
    "    )\n",
    "\"\"\"\n",
    "\n",
    "model_players = {\n",
    "    'id': tp.BIGINT,\n",
    "    'name': tp.VARCHAR,\n",
    "    'age': tp.INT,\n",
    "    'photo': tp.VARCHAR,\n",
    "    'photo_id': tp.VARCHAR,\n",
    "    'nationality': tp.VARCHAR,\n",
    "    'flag': tp.VARCHAR,\n",
    "    'overall': tp.INT,\n",
    "    'potential': tp.INT,\n",
    "    'club': tp.VARCHAR,\n",
    "    'club_logo': tp.VARCHAR,\n",
    "    'value': tp.BIGINT,\n",
    "    'wage': tp.BIGINT,\n",
    "    'special': tp.INT,\n",
    "    'preferred_foot': tp.VARCHAR,\n",
    "    'international_reputation': tp.INT,\n",
    "    'weak_foot': tp.INT,\n",
    "    'skill_moves': tp.INT,\n",
    "    'work_rate': tp.VARCHAR,\n",
    "    'body_type': tp.VARCHAR,\n",
    "    'real_face': tp.VARCHAR,\n",
    "    'position': tp.VARCHAR,\n",
    "    'jersey_number': tp.INT,\n",
    "    'joined': tp.VARCHAR,\n",
    "    'loaned_from': tp.VARCHAR,\n",
    "    'contract_valid_until': tp.VARCHAR,\n",
    "    'height': tp.VARCHAR,\n",
    "    'weight': tp.VARCHAR,\n",
    "    'ls': tp.INT,\n",
    "    'st': tp.INT,\n",
    "    'rs': tp.INT,\n",
    "    'lw': tp.INT,\n",
    "    'lf': tp.INT,\n",
    "    'cf': tp.INT,\n",
    "    'rf': tp.INT,\n",
    "    'rw': tp.INT,\n",
    "    'lam': tp.INT,\n",
    "    'cam': tp.INT,\n",
    "    'ram': tp.INT,\n",
    "    'lm': tp.INT,\n",
    "    'lcm': tp.INT,\n",
    "    'cm': tp.INT,\n",
    "    'rcm': tp.INT,\n",
    "    'rm': tp.INT,\n",
    "    'lwb': tp.INT,\n",
    "    'ldm': tp.INT,\n",
    "    'cdm': tp.INT,\n",
    "    'rdm': tp.INT,\n",
    "    'rwb': tp.INT,\n",
    "    'lb': tp.INT,\n",
    "    'lcb': tp.INT,\n",
    "    'cb': tp.INT,\n",
    "    'rcb': tp.INT,\n",
    "    'rb': tp.INT,\n",
    "    'gk': tp.INT,\n",
    "    'crossing': tp.INT,\n",
    "    'finishing': tp.INT,\n",
    "    'heading_accuracy': tp.INT,\n",
    "    'short_passing': tp.INT,\n",
    "    'volleys': tp.INT,\n",
    "    'dribbling': tp.INT,\n",
    "    'curve': tp.INT,\n",
    "    'fk_accuracy': tp.INT,\n",
    "    'long_passing': tp.INT,\n",
    "    'ball_control': tp.INT,\n",
    "    'acceleration': tp.INT,\n",
    "    'sprint_speed': tp.INT,\n",
    "    'agility': tp.INT,\n",
    "    'reactions': tp.INT,\n",
    "    'balance': tp.INT,\n",
    "    'shot_power': tp.INT,\n",
    "    'jumping': tp.INT,\n",
    "    'stamina': tp.INT,\n",
    "    'strength': tp.INT,\n",
    "    'long_shots': tp.INT,\n",
    "    'aggression': tp.INT,\n",
    "    'interceptions': tp.INT,\n",
    "    'positioning': tp.INT,\n",
    "    'vision': tp.INT,\n",
    "    'penalties': tp.INT,\n",
    "    'composure': tp.INT,\n",
    "    'marking': tp.INT,\n",
    "    'standing_tackle': tp.INT,\n",
    "    'sliding_tackle': tp.INT,\n",
    "    'gk_diving': tp.INT,\n",
    "    'gk_handling': tp.INT,\n",
    "    'gk_kicking': tp.INT,\n",
    "    'gk_positioning': tp.INT,\n",
    "    'gk_reflexes': tp.INT,\n",
    "    'release_clause': tp.BIGINT,\n",
    "}"
   ]
  },
  {
   "cell_type": "code",
   "execution_count": 16,
   "metadata": {
    "ExecuteTime": {
     "end_time": "2020-09-02T16:22:16.162357Z",
     "start_time": "2020-09-02T16:22:15.719591Z"
    }
   },
   "outputs": [],
   "source": [
    "with engine.connect() as con:\n",
    "    con.execute(\"DROP TABLE IF EXISTS players\")\n",
    "    con.execute(statement_insert_mysql)"
   ]
  },
  {
   "cell_type": "code",
   "execution_count": 17,
   "metadata": {
    "ExecuteTime": {
     "end_time": "2020-09-02T16:22:26.233007Z",
     "start_time": "2020-09-02T16:22:17.534638Z"
    }
   },
   "outputs": [],
   "source": [
    "df.to_sql('players', con=engine, if_exists='append', index=False)"
   ]
  },
  {
   "cell_type": "code",
   "execution_count": 18,
   "metadata": {
    "ExecuteTime": {
     "end_time": "2020-09-02T16:22:29.625747Z",
     "start_time": "2020-09-02T16:22:29.589284Z"
    },
    "code_folding": [
     0
    ]
   },
   "outputs": [],
   "source": [
    "from models import Player"
   ]
  },
  {
   "cell_type": "code",
   "execution_count": 21,
   "metadata": {
    "ExecuteTime": {
     "end_time": "2020-09-02T16:22:29.998566Z",
     "start_time": "2020-09-02T16:22:29.990349Z"
    }
   },
   "outputs": [],
   "source": [
    "Session = sessionmaker(bind=engine)\n",
    "session = Session()"
   ]
  },
  {
   "cell_type": "code",
   "execution_count": 22,
   "metadata": {
    "ExecuteTime": {
     "end_time": "2020-09-02T16:22:33.523575Z",
     "start_time": "2020-09-02T16:22:33.511076Z"
    }
   },
   "outputs": [
    {
     "data": {
      "text/plain": [
       "17966"
      ]
     },
     "execution_count": 22,
     "metadata": {},
     "output_type": "execute_result"
    }
   ],
   "source": [
    "NAME, CLUB, NAT = '', '', ''\n",
    "rows_all = session.query(Player) \\\n",
    "                    .filter(Player.name.ilike(f'%{NAME}%')) \\\n",
    "                    .filter(Player.club.ilike(f'%{CLUB}%')) \\\n",
    "                    .filter(Player.nationality.ilike(f'%{NAT}%'))\n",
    "rows_all.count()"
   ]
  },
  {
   "cell_type": "code",
   "execution_count": null,
   "metadata": {},
   "outputs": [],
   "source": []
  }
 ],
 "metadata": {
  "hide_input": false,
  "kernelspec": {
   "display_name": "Python 3",
   "language": "python",
   "name": "python3"
  },
  "language_info": {
   "codemirror_mode": {
    "name": "ipython",
    "version": 3
   },
   "file_extension": ".py",
   "mimetype": "text/x-python",
   "name": "python",
   "nbconvert_exporter": "python",
   "pygments_lexer": "ipython3",
   "version": "3.7.7"
  },
  "toc": {
   "base_numbering": 1,
   "nav_menu": {},
   "number_sections": true,
   "sideBar": true,
   "skip_h1_title": false,
   "title_cell": "Table of Contents",
   "title_sidebar": "Contents",
   "toc_cell": false,
   "toc_position": {},
   "toc_section_display": true,
   "toc_window_display": false
  },
  "varInspector": {
   "cols": {
    "lenName": 16,
    "lenType": 16,
    "lenVar": 40
   },
   "kernels_config": {
    "python": {
     "delete_cmd_postfix": "",
     "delete_cmd_prefix": "del ",
     "library": "var_list.py",
     "varRefreshCmd": "print(var_dic_list())"
    },
    "r": {
     "delete_cmd_postfix": ") ",
     "delete_cmd_prefix": "rm(",
     "library": "var_list.r",
     "varRefreshCmd": "cat(var_dic_list()) "
    }
   },
   "types_to_exclude": [
    "module",
    "function",
    "builtin_function_or_method",
    "instance",
    "_Feature"
   ],
   "window_display": false
  }
 },
 "nbformat": 4,
 "nbformat_minor": 4
}