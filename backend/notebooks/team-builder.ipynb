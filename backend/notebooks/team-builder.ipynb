{
 "cells": [
  {
   "cell_type": "code",
   "execution_count": 1,
   "metadata": {
    "ExecuteTime": {
     "end_time": "2020-09-05T10:41:14.106560Z",
     "start_time": "2020-09-05T10:41:13.711935Z"
    }
   },
   "outputs": [],
   "source": [
    "import json\n",
    "import pandas as pd\n",
    "import numpy as np\n",
    "import pulp\n",
    "import sys\n",
    "\n",
    "sys.path.append('..')"
   ]
  },
  {
   "cell_type": "code",
   "execution_count": 2,
   "metadata": {
    "ExecuteTime": {
     "end_time": "2020-09-05T10:44:15.250858Z",
     "start_time": "2020-09-05T10:44:15.247537Z"
    }
   },
   "outputs": [],
   "source": [
    "from helper import get_database_session, init_mysql_engine\n",
    "from models import Player"
   ]
  },
  {
   "cell_type": "code",
   "execution_count": 4,
   "metadata": {
    "ExecuteTime": {
     "end_time": "2020-09-05T10:41:14.391571Z",
     "start_time": "2020-09-05T10:41:14.327105Z"
    }
   },
   "outputs": [],
   "source": [
    "with open('../config.json', 'r') as f:\n",
    "  CONFIG = json.load(f)\n",
    "\n",
    "engine = init_mysql_engine(CONFIG['MYSQL_USER'],\n",
    "                           CONFIG['MYSQL_PWD'],\n",
    "                           CONFIG['MYSQL_HOST'],\n",
    "                           CONFIG['MYSQL_PORT'],\n",
    "                           CONFIG['MYSQL_DB'])"
   ]
  },
  {
   "cell_type": "code",
   "execution_count": 5,
   "metadata": {
    "ExecuteTime": {
     "end_time": "2020-09-05T10:41:33.492700Z",
     "start_time": "2020-09-05T10:41:32.495046Z"
    }
   },
   "outputs": [],
   "source": [
    "df = pd.read_sql_table('players', con=engine)"
   ]
  },
  {
   "cell_type": "code",
   "execution_count": 6,
   "metadata": {
    "ExecuteTime": {
     "end_time": "2020-09-05T10:41:34.130976Z",
     "start_time": "2020-09-05T10:41:34.124082Z"
    }
   },
   "outputs": [],
   "source": [
    "COLS_POS = ['ls', 'st', 'rs', \n",
    "            'lw', 'lf', 'cf', 'rf', 'rw', \n",
    "            'lam', 'cam', 'ram', \n",
    "            'lm', 'lcm', 'cm', 'rcm', 'rm', \n",
    "            'lwb', 'ldm', 'cdm', 'rdm', 'rwb',\n",
    "            'lb', 'lcb', 'cb', 'rcb', 'rb',\n",
    "            'gk']\n",
    "\n",
    "FORMATION_4_4_2 = [\n",
    "    'gk',\n",
    "    'rb', 'rcb', 'lcb', 'lb',\n",
    "    'rm', 'rcm', 'lcm', 'lm',\n",
    "    'rs', 'ls',\n",
    "]\n",
    "\n",
    "FORMATION_5_3_2 = [\n",
    "    'gk',\n",
    "    'rcb', 'cb', 'lcb',\n",
    "    'rwb', 'lwb',\n",
    "    'rcm', 'lcm',\n",
    "    'cam',\n",
    "    'rs', 'ls',\n",
    "]"
   ]
  },
  {
   "cell_type": "code",
   "execution_count": 7,
   "metadata": {
    "ExecuteTime": {
     "end_time": "2020-09-05T10:41:34.635779Z",
     "start_time": "2020-09-05T10:41:34.593195Z"
    }
   },
   "outputs": [],
   "source": [
    "FORMATION = FORMATION_5_3_2\n",
    "BUDGET = 200 * 10**6\n",
    "\n",
    "TEMP = df[['id', 'position', 'value', 'overall']] \\\n",
    "        .dropna(subset=['position']) \\\n",
    "        .query(f'position in {FORMATION} and value > 0')"
   ]
  },
  {
   "cell_type": "code",
   "execution_count": 8,
   "metadata": {
    "ExecuteTime": {
     "end_time": "2020-09-05T10:41:35.025125Z",
     "start_time": "2020-09-05T10:41:35.013890Z"
    }
   },
   "outputs": [],
   "source": [
    "def compute_best_lineup(df, formation, budget):\n",
    "\n",
    "    # problem definition\n",
    "    prob = pulp.LpProblem('BestLineup', pulp.LpMaximize)\n",
    "\n",
    "    # get unique identifiers\n",
    "    ids = df['id'].tolist()\n",
    "    \n",
    "    # parameters\n",
    "    overalls = pd.Series(df['overall'].values, index=ids).to_dict()\n",
    "    values = pd.Series(df['value'].values, index=ids).to_dict()\n",
    "\n",
    "    ## dynamic paramters: selected positions\n",
    "    ### convert position-strings into binary variables\n",
    "    for pos in formation:\n",
    "        df[f'is_{pos}'] = np.where(df['position'] == pos, 1, 0)\n",
    "    \n",
    "    ### extract positional parameters\n",
    "    positions = {}\n",
    "    for pos in formation:\n",
    "        positions[pos] = pd.Series(df[f'is_{pos}'].values, index=ids).to_dict()\n",
    "\n",
    "    # define the decision variable\n",
    "    players = pulp.LpVariable.dicts(\"Player\", ids, cat='Binary')\n",
    "\n",
    "    # set objective\n",
    "    prob += pulp.lpSum([overalls[i] * players[i] for i in ids]), \"Total Rating of Lineup\"\n",
    "\n",
    "    # set constraints\n",
    "    prob += pulp.lpSum([players[i] for i in ids]) == 11, \"Pick_11_Players\"\n",
    "    prob += pulp.lpSum([values[i] * players[i] for i in ids]) <= budget, \"Total_Value_Under_Budget\"\n",
    "    ## check if required position is picked\n",
    "    for pos in formation:\n",
    "        prob += pulp.lpSum([positions[pos][i] * players[i] for i in ids]) == 1, f\"Pick_{pos.upper()}\"\n",
    "\n",
    "    result = prob.solve()\n",
    "\n",
    "    picked_player_ids = [int(i.name.split('_')[1]) for i in prob.variables() if i.varValue > 0]\n",
    "    \n",
    "    return prob, picked_player_ids"
   ]
  },
  {
   "cell_type": "code",
   "execution_count": 9,
   "metadata": {
    "ExecuteTime": {
     "end_time": "2020-09-05T10:41:37.070754Z",
     "start_time": "2020-09-05T10:41:35.813009Z"
    }
   },
   "outputs": [],
   "source": [
    "prob, ids = compute_best_lineup(TEMP, FORMATION, BUDGET)"
   ]
  },
  {
   "cell_type": "code",
   "execution_count": 10,
   "metadata": {},
   "outputs": [
    {
     "output_type": "execute_result",
     "data": {
      "text/plain": "          id position            name  overall          nationality  age  \\\n6       1179       gk       G. Buffon       88                Italy   40   \n61     41236       rs  Z. Ibrahimović       85               Sweden   36   \n63     45186       ls         Joaquín       81                Spain   36   \n325   138956      lcb    G. Chiellini       89                Italy   33   \n917   164240      rcb    Thiago Silva       88               Brazil   33   \n1275  171919       cb           Naldo       85               Brazil   35   \n1613  177413      lcm       A. Witsel       84              Belgium   29   \n1829  179846      rcm      S. Khedira       85              Germany   31   \n1853  180216      rwb      S. Coleman       80  Republic of Ireland   29   \n1967  181872      cam        A. Vidal       85                Chile   31   \n4597  200536      lwb       N. Schulz       80              Germany   25   \n\n                     club  \n6     Paris Saint-Germain  \n61              LA Galaxy  \n63             Real Betis  \n325              Juventus  \n917   Paris Saint-Germain  \n1275        FC Schalke 04  \n1613    Borussia Dortmund  \n1829             Juventus  \n1853              Everton  \n1967         FC Barcelona  \n4597  TSG 1899 Hoffenheim  ",
      "text/html": "<div>\n<style scoped>\n    .dataframe tbody tr th:only-of-type {\n        vertical-align: middle;\n    }\n\n    .dataframe tbody tr th {\n        vertical-align: top;\n    }\n\n    .dataframe thead th {\n        text-align: right;\n    }\n</style>\n<table border=\"1\" class=\"dataframe\">\n  <thead>\n    <tr style=\"text-align: right;\">\n      <th></th>\n      <th>id</th>\n      <th>position</th>\n      <th>name</th>\n      <th>overall</th>\n      <th>nationality</th>\n      <th>age</th>\n      <th>club</th>\n    </tr>\n  </thead>\n  <tbody>\n    <tr>\n      <th>6</th>\n      <td>1179</td>\n      <td>gk</td>\n      <td>G. Buffon</td>\n      <td>88</td>\n      <td>Italy</td>\n      <td>40</td>\n      <td>Paris Saint-Germain</td>\n    </tr>\n    <tr>\n      <th>61</th>\n      <td>41236</td>\n      <td>rs</td>\n      <td>Z. Ibrahimović</td>\n      <td>85</td>\n      <td>Sweden</td>\n      <td>36</td>\n      <td>LA Galaxy</td>\n    </tr>\n    <tr>\n      <th>63</th>\n      <td>45186</td>\n      <td>ls</td>\n      <td>Joaquín</td>\n      <td>81</td>\n      <td>Spain</td>\n      <td>36</td>\n      <td>Real Betis</td>\n    </tr>\n    <tr>\n      <th>325</th>\n      <td>138956</td>\n      <td>lcb</td>\n      <td>G. Chiellini</td>\n      <td>89</td>\n      <td>Italy</td>\n      <td>33</td>\n      <td>Juventus</td>\n    </tr>\n    <tr>\n      <th>917</th>\n      <td>164240</td>\n      <td>rcb</td>\n      <td>Thiago Silva</td>\n      <td>88</td>\n      <td>Brazil</td>\n      <td>33</td>\n      <td>Paris Saint-Germain</td>\n    </tr>\n    <tr>\n      <th>1275</th>\n      <td>171919</td>\n      <td>cb</td>\n      <td>Naldo</td>\n      <td>85</td>\n      <td>Brazil</td>\n      <td>35</td>\n      <td>FC Schalke 04</td>\n    </tr>\n    <tr>\n      <th>1613</th>\n      <td>177413</td>\n      <td>lcm</td>\n      <td>A. Witsel</td>\n      <td>84</td>\n      <td>Belgium</td>\n      <td>29</td>\n      <td>Borussia Dortmund</td>\n    </tr>\n    <tr>\n      <th>1829</th>\n      <td>179846</td>\n      <td>rcm</td>\n      <td>S. Khedira</td>\n      <td>85</td>\n      <td>Germany</td>\n      <td>31</td>\n      <td>Juventus</td>\n    </tr>\n    <tr>\n      <th>1853</th>\n      <td>180216</td>\n      <td>rwb</td>\n      <td>S. Coleman</td>\n      <td>80</td>\n      <td>Republic of Ireland</td>\n      <td>29</td>\n      <td>Everton</td>\n    </tr>\n    <tr>\n      <th>1967</th>\n      <td>181872</td>\n      <td>cam</td>\n      <td>A. Vidal</td>\n      <td>85</td>\n      <td>Chile</td>\n      <td>31</td>\n      <td>FC Barcelona</td>\n    </tr>\n    <tr>\n      <th>4597</th>\n      <td>200536</td>\n      <td>lwb</td>\n      <td>N. Schulz</td>\n      <td>80</td>\n      <td>Germany</td>\n      <td>25</td>\n      <td>TSG 1899 Hoffenheim</td>\n    </tr>\n  </tbody>\n</table>\n</div>"
     },
     "metadata": {},
     "execution_count": 10
    }
   ],
   "source": [
    "df[['id', 'position', 'name', 'overall', 'nationality', 'age', 'club']].query(f\"id in {ids}\")\n"
   ]
  },
  {
   "cell_type": "code",
   "execution_count": 15,
   "metadata": {
    "ExecuteTime": {
     "end_time": "2020-09-05T10:44:27.272036Z",
     "start_time": "2020-09-05T10:44:27.261581Z"
    }
   },
   "outputs": [],
   "source": [
    "session = get_database_session(engine)\n",
    "\n",
    "rows = session.query(Player).filter(Player.id.in_(ids))"
   ]
  },
  {
   "cell_type": "code",
   "execution_count": 16,
   "metadata": {
    "ExecuteTime": {
     "end_time": "2020-09-05T10:44:42.233160Z",
     "start_time": "2020-09-05T10:44:42.215054Z"
    }
   },
   "outputs": [],
   "source": [
    "records = { r.position: dict(id=r.id, name=r.name, position=r.position, nationality=r.nationality,\n",
    "                                             flag=r.flag, club=r.club, age=r.age, photo=r.photo,\n",
    "                                              value=r.value, overall=r.overall )\n",
    "                            for r in rows}"
   ]
  },
  {
   "cell_type": "code",
   "execution_count": 22,
   "metadata": {
    "ExecuteTime": {
     "end_time": "2020-09-05T10:46:04.489783Z",
     "start_time": "2020-09-05T10:46:04.468863Z"
    }
   },
   "outputs": [
    {
     "data": {
      "text/plain": [
       "930"
      ]
     },
     "execution_count": 22,
     "metadata": {},
     "output_type": "execute_result"
    }
   ],
   "source": [
    "sum([r.value for r in rows])\n",
    "sum([r.overall for r in rows])"
   ]
  },
  {
   "cell_type": "code",
   "execution_count": null,
   "metadata": {
    "ExecuteTime": {
     "end_time": "2020-09-04T00:02:46.530677Z",
     "start_time": "2020-09-04T00:02:46.503408Z"
    }
   },
   "outputs": [],
   "source": [
    "for pos in FORMATION:\n",
    "    TEMP[f'is_{pos}'] = np.where(TEMP['position'] == pos, 1, 0)"
   ]
  },
  {
   "cell_type": "code",
   "execution_count": null,
   "metadata": {
    "ExecuteTime": {
     "end_time": "2020-09-04T00:02:47.271995Z",
     "start_time": "2020-09-04T00:02:47.070764Z"
    }
   },
   "outputs": [],
   "source": [
    "prob = pulp.LpProblem('BestLineup', pulp.LpMaximize)\n",
    "\n",
    "ids = TEMP['id'].tolist()\n",
    "\n",
    "overalls = pd.Series(TEMP['overall'].values, index=ids).to_dict()\n",
    "costs = pd.Series(TEMP['value'].values, index=ids).to_dict()\n",
    "\n",
    "positions = {}\n",
    "\n",
    "for pos in FORMATION:\n",
    "    positions[pos] = pd.Series(TEMP[f'is_{pos}'].values, index=ids).to_dict()\n",
    "    \n",
    "player_vars = pulp.LpVariable.dicts(\"Player\", ids, cat='Binary')\n",
    "\n",
    "prob += pulp.lpSum([overalls[i] * player_vars[i] for i in ids]), \"Total Rating of Lineup\""
   ]
  },
  {
   "cell_type": "code",
   "execution_count": null,
   "metadata": {
    "ExecuteTime": {
     "end_time": "2020-09-04T00:02:47.833412Z",
     "start_time": "2020-09-04T00:02:47.797971Z"
    }
   },
   "outputs": [],
   "source": [
    "prob += pulp.lpSum([player_vars[f] for f in ids]) == 11, \"11_Players\""
   ]
  },
  {
   "cell_type": "code",
   "execution_count": null,
   "metadata": {
    "ExecuteTime": {
     "end_time": "2020-09-04T00:02:48.846209Z",
     "start_time": "2020-09-04T00:02:48.743437Z"
    }
   },
   "outputs": [],
   "source": [
    "prob += pulp.lpSum([costs[f] * player_vars[f] for f in ids]) <= BUDGET, \"MaxBudget\""
   ]
  },
  {
   "cell_type": "code",
   "execution_count": null,
   "metadata": {
    "ExecuteTime": {
     "end_time": "2020-09-04T00:02:50.385264Z",
     "start_time": "2020-09-04T00:02:49.711245Z"
    }
   },
   "outputs": [],
   "source": [
    "for pos in FORMATION:\n",
    "    prob += pulp.lpSum([positions[pos][f] * player_vars[f] for f in ids]) == 1, f\"{pos.upper()}\""
   ]
  },
  {
   "cell_type": "code",
   "execution_count": null,
   "metadata": {
    "ExecuteTime": {
     "end_time": "2020-09-04T00:02:51.193183Z",
     "start_time": "2020-09-04T00:02:50.892864Z"
    }
   },
   "outputs": [],
   "source": [
    "prob.solve()"
   ]
  },
  {
   "cell_type": "code",
   "execution_count": null,
   "metadata": {
    "ExecuteTime": {
     "end_time": "2020-09-04T00:03:18.525160Z",
     "start_time": "2020-09-04T00:03:18.475497Z"
    }
   },
   "outputs": [],
   "source": [
    "IDs = [int(i.name.split('_')[1]) for i in prob.variables() if i.varValue > 0]\n",
    "display(\n",
    "    f\"{TEMP[TEMP.id.isin(IDs)].value.sum():,}\",\n",
    "    TEMP[TEMP.id.isin(IDs)].overall.sum(),\n",
    ")\n",
    "df[['id', 'position', 'name', 'overall', 'nationality', 'age', 'club']].query(f\"id in {IDs}\")"
   ]
  },
  {
   "cell_type": "code",
   "execution_count": null,
   "metadata": {
    "ExecuteTime": {
     "end_time": "2020-09-03T10:39:30.706143Z",
     "start_time": "2020-09-03T10:39:30.654348Z"
    }
   },
   "outputs": [],
   "source": [
    "# mkr = munkres.Munkres()\n",
    "\n",
    "# MATRIX = TEMP[FORMATION_4_4_2].T.values\n",
    "# INDICES = mkr.compute(munkres.make_cost_matrix(MATRIX, lambda x: 100-x))\n",
    "\n",
    "# VALUES = [ MATRIX[row][col] for row, col in INDICES ]\n",
    "# RESULT = TEMP.loc[[ col for row, col in INDICES], ['id', 'name', 'value']]\n",
    "# RESULT['position'] = FORMATION_4_4_2\n",
    "# RESULT['rating'] = VALUES\n",
    "\n",
    "# df[['id', 'name', 'value', *FORMATION_4_4_2]] \\\n",
    "#     .merge(RESULT[['id', 'name', 'position', 'rating']], on=['id', 'name'])"
   ]
  }
 ],
 "metadata": {
  "hide_input": false,
  "kernelspec": {
   "display_name": "Python 3",
   "language": "python",
   "name": "python3"
  },
  "language_info": {
   "codemirror_mode": {
    "name": "ipython",
    "version": 3
   },
   "file_extension": ".py",
   "mimetype": "text/x-python",
   "name": "python",
   "nbconvert_exporter": "python",
   "pygments_lexer": "ipython3",
   "version": "3.7.7-final"
  },
  "toc": {
   "base_numbering": 1,
   "nav_menu": {},
   "number_sections": true,
   "sideBar": true,
   "skip_h1_title": false,
   "title_cell": "Table of Contents",
   "title_sidebar": "Contents",
   "toc_cell": false,
   "toc_position": {},
   "toc_section_display": true,
   "toc_window_display": false
  },
  "varInspector": {
   "cols": {
    "lenName": 16,
    "lenType": 16,
    "lenVar": 40
   },
   "kernels_config": {
    "python": {
     "delete_cmd_postfix": "",
     "delete_cmd_prefix": "del ",
     "library": "var_list.py",
     "varRefreshCmd": "print(var_dic_list())"
    },
    "r": {
     "delete_cmd_postfix": ") ",
     "delete_cmd_prefix": "rm(",
     "library": "var_list.r",
     "varRefreshCmd": "cat(var_dic_list()) "
    }
   },
   "types_to_exclude": [
    "module",
    "function",
    "builtin_function_or_method",
    "instance",
    "_Feature"
   ],
   "window_display": false
  }
 },
 "nbformat": 4,
 "nbformat_minor": 4
}